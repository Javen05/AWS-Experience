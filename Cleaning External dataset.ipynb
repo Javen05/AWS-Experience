{
 "cells": [
  {
   "cell_type": "code",
   "execution_count": 1,
   "id": "e522b5e4",
   "metadata": {},
   "outputs": [],
   "source": [
    "import pandas as pd"
   ]
  },
  {
   "cell_type": "code",
   "execution_count": 2,
   "id": "5180c977",
   "metadata": {},
   "outputs": [
    {
     "name": "stderr",
     "output_type": "stream",
     "text": [
      "C:\\Users\\javen\\AppData\\Local\\Temp\\ipykernel_12880\\1365143574.py:1: DtypeWarning: Columns (6) have mixed types. Specify dtype option on import or set low_memory=False.\n",
      "  df = pd.read_csv('Combined_Less.csv')\n"
     ]
    }
   ],
   "source": [
    "df = pd.read_csv('Combined_Less.csv')"
   ]
  },
  {
   "cell_type": "code",
   "execution_count": 3,
   "id": "df278246",
   "metadata": {},
   "outputs": [],
   "source": [
    "df = df[['species', 'state', 'Common_Name']]"
   ]
  },
  {
   "cell_type": "code",
   "execution_count": 4,
   "id": "aae9f65f",
   "metadata": {},
   "outputs": [],
   "source": [
    "df.columns = ['scientific_name', 'state', 'english_name']"
   ]
  },
  {
   "cell_type": "code",
   "execution_count": 5,
   "id": "1b50dd95",
   "metadata": {},
   "outputs": [],
   "source": [
    "df.dropna(inplace=True)  # drop missing values"
   ]
  },
  {
   "cell_type": "code",
   "execution_count": 6,
   "id": "9c7bff3c",
   "metadata": {},
   "outputs": [],
   "source": [
    "df.drop_duplicates(subset=['scientific_name'], inplace=True)"
   ]
  },
  {
   "cell_type": "code",
   "execution_count": 7,
   "id": "865b6945",
   "metadata": {},
   "outputs": [
    {
     "data": {
      "text/html": [
       "<div>\n",
       "<style scoped>\n",
       "    .dataframe tbody tr th:only-of-type {\n",
       "        vertical-align: middle;\n",
       "    }\n",
       "\n",
       "    .dataframe tbody tr th {\n",
       "        vertical-align: top;\n",
       "    }\n",
       "\n",
       "    .dataframe thead th {\n",
       "        text-align: right;\n",
       "    }\n",
       "</style>\n",
       "<table border=\"1\" class=\"dataframe\">\n",
       "  <thead>\n",
       "    <tr style=\"text-align: right;\">\n",
       "      <th></th>\n",
       "      <th>scientific_name</th>\n",
       "      <th>state</th>\n",
       "      <th>english_name</th>\n",
       "    </tr>\n",
       "  </thead>\n",
       "  <tbody>\n",
       "    <tr>\n",
       "      <th>0</th>\n",
       "      <td>Ambloplites rupestris</td>\n",
       "      <td>OH</td>\n",
       "      <td>Rock Bass</td>\n",
       "    </tr>\n",
       "    <tr>\n",
       "      <th>1</th>\n",
       "      <td>Campostoma anomalum</td>\n",
       "      <td>OH</td>\n",
       "      <td>Central Stoneroller</td>\n",
       "    </tr>\n",
       "    <tr>\n",
       "      <th>2</th>\n",
       "      <td>Catostomus commersonii</td>\n",
       "      <td>OH</td>\n",
       "      <td>White Sucker</td>\n",
       "    </tr>\n",
       "    <tr>\n",
       "      <th>3</th>\n",
       "      <td>Chrosomus erythrogaster</td>\n",
       "      <td>OH</td>\n",
       "      <td>South. Redbelly Dace</td>\n",
       "    </tr>\n",
       "    <tr>\n",
       "      <th>4</th>\n",
       "      <td>Clinostomus funduloides</td>\n",
       "      <td>OH</td>\n",
       "      <td>Rosyside Dace</td>\n",
       "    </tr>\n",
       "  </tbody>\n",
       "</table>\n",
       "</div>"
      ],
      "text/plain": [
       "           scientific_name state          english_name\n",
       "0    Ambloplites rupestris    OH             Rock Bass\n",
       "1      Campostoma anomalum    OH   Central Stoneroller\n",
       "2   Catostomus commersonii    OH          White Sucker\n",
       "3  Chrosomus erythrogaster    OH  South. Redbelly Dace\n",
       "4  Clinostomus funduloides    OH         Rosyside Dace"
      ]
     },
     "execution_count": 7,
     "metadata": {},
     "output_type": "execute_result"
    }
   ],
   "source": [
    "df.head()"
   ]
  },
  {
   "cell_type": "code",
   "execution_count": 8,
   "id": "5d762c1d",
   "metadata": {},
   "outputs": [
    {
     "data": {
      "text/plain": [
       "145"
      ]
     },
     "execution_count": 8,
     "metadata": {},
     "output_type": "execute_result"
    }
   ],
   "source": [
    "len(df)"
   ]
  },
  {
   "cell_type": "code",
   "execution_count": 9,
   "id": "6dee06b1",
   "metadata": {},
   "outputs": [],
   "source": [
    "df.to_csv('species_in_USA.csv', index=False)"
   ]
  }
 ],
 "metadata": {
  "kernelspec": {
   "display_name": "Python 3 (ipykernel)",
   "language": "python",
   "name": "python3"
  },
  "language_info": {
   "codemirror_mode": {
    "name": "ipython",
    "version": 3
   },
   "file_extension": ".py",
   "mimetype": "text/x-python",
   "name": "python",
   "nbconvert_exporter": "python",
   "pygments_lexer": "ipython3",
   "version": "3.9.12"
  }
 },
 "nbformat": 4,
 "nbformat_minor": 5
}
